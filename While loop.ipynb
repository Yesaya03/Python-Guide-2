{
 "cells": [
  {
   "cell_type": "markdown",
   "id": "f179f958",
   "metadata": {},
   "source": [
    "While \n",
    "\n",
    "* While in Python, used to execute a statement as long as a given condition met (True)\n",
    "* The condition can be any expression, and please note that True in Python includes all non-zero values.\n",
    "* When the condition becomes False, the program will continue to the line after the statement block.\n",
    "\n",
    "Be carefull!!"
   ]
  },
  {
   "cell_type": "code",
   "execution_count": 2,
   "id": "3014f390",
   "metadata": {},
   "outputs": [],
   "source": [
    "# angka = int(input())\n",
    "\n",
    "#while (angka<3):\n",
    "#   print('bilangan')   # It makes a loop continuously because there are no constraints or limitations."
   ]
  },
  {
   "cell_type": "code",
   "execution_count": 4,
   "id": "08f51086",
   "metadata": {},
   "outputs": [
    {
     "name": "stdout",
     "output_type": "stream",
     "text": [
      "2\n",
      "bilangan 2\n"
     ]
    }
   ],
   "source": [
    "angka = int(input())\n",
    "\n",
    "while(angka<3):\n",
    "    print('bilangan {}'.format(angka))\n",
    "    angka = angka + 1   # For example constraints or limitations"
   ]
  },
  {
   "cell_type": "code",
   "execution_count": 5,
   "id": "0123a61b",
   "metadata": {},
   "outputs": [
    {
     "name": "stdout",
     "output_type": "stream",
     "text": [
      "Masukkan angka: 1\n",
      "bilangan 3\n",
      "bilangan 5\n",
      "bilangan 7\n",
      "bilangan 9\n",
      "bilangan 11\n"
     ]
    }
   ],
   "source": [
    "angka = int(input('Masukkan angka: '))\n",
    "\n",
    "while(angka<10):\n",
    "    angka = angka + 2  # For example constraints or limitations\n",
    "    print('bilangan {}'.format(angka))"
   ]
  },
  {
   "cell_type": "markdown",
   "id": "6ac17b13",
   "metadata": {},
   "source": [
    "Else after While\n",
    "\n",
    "In the while statement, the else statement block will always be executed when the while condition is false"
   ]
  },
  {
   "cell_type": "code",
   "execution_count": 6,
   "id": "f3a68ecf",
   "metadata": {},
   "outputs": [
    {
     "name": "stdout",
     "output_type": "stream",
     "text": [
      "Masukkan angka: 2\n",
      "4\n"
     ]
    }
   ],
   "source": [
    "angka = int(input('Masukkan angka: '))\n",
    "\n",
    "while(angka < 10):\n",
    "    angka = angka + 2\n",
    "    if angka == 6:\n",
    "        break\n",
    "    print(angka)\n",
    "else:\n",
    "    print('loop selesai')"
   ]
  },
  {
   "cell_type": "code",
   "execution_count": 7,
   "id": "bc0c76fa",
   "metadata": {},
   "outputs": [
    {
     "name": "stdout",
     "output_type": "stream",
     "text": [
      "Masukkan angka: 1\n",
      "-1\n",
      "loop selesai\n"
     ]
    }
   ],
   "source": [
    "angka = int(input('Masukkan angka: '))\n",
    "\n",
    "while(angka > 0):\n",
    "    angka = angka - 2\n",
    "    print(angka)\n",
    "else:\n",
    "    print('loop selesai')"
   ]
  }
 ],
 "metadata": {
  "kernelspec": {
   "display_name": "Python 3 (ipykernel)",
   "language": "python",
   "name": "python3"
  },
  "language_info": {
   "codemirror_mode": {
    "name": "ipython",
    "version": 3
   },
   "file_extension": ".py",
   "mimetype": "text/x-python",
   "name": "python",
   "nbconvert_exporter": "python",
   "pygments_lexer": "ipython3",
   "version": "3.9.12"
  }
 },
 "nbformat": 4,
 "nbformat_minor": 5
}
