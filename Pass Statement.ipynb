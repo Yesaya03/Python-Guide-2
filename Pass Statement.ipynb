{
 "cells": [
  {
   "cell_type": "markdown",
   "id": "18afd736",
   "metadata": {},
   "source": [
    "# Pass \n",
    "\n",
    "Used if we want a statement or block of statements (statements), but do nothing - continue execution in order.\n",
    "\n",
    "This control mostly used when we have not implemented (or prepared a place for implementation) and let the program continue to run when we experience a failure or exception.\n",
    "\n",
    "Pass statement is a Null (empty) operation, nothing happens when it called\n",
    "\n",
    "If you use pass if an error occurs, it can still be executed, and we know where the error occurred."
   ]
  },
  {
   "cell_type": "code",
   "execution_count": 3,
   "id": "d679cbc5",
   "metadata": {},
   "outputs": [
    {
     "name": "stdout",
     "output_type": "stream",
     "text": [
      "peroleh: 1\n",
      "dapat angka 1\n",
      "peroleh: 2\n",
      "dapat angka 2\n",
      "peroleh: z\n"
     ]
    },
    {
     "ename": "ValueError",
     "evalue": "invalid literal for int() with base 10: 'z'",
     "output_type": "error",
     "traceback": [
      "\u001b[1;31m---------------------------------------------------------------------------\u001b[0m",
      "\u001b[1;31mValueError\u001b[0m                                Traceback (most recent call last)",
      "Input \u001b[1;32mIn [3]\u001b[0m, in \u001b[0;36m<cell line: 3>\u001b[1;34m()\u001b[0m\n\u001b[0;32m      3\u001b[0m \u001b[38;5;28;01mwhile\u001b[39;00m(n \u001b[38;5;241m!=\u001b[39m \u001b[38;5;124m'\u001b[39m\u001b[38;5;124mz\u001b[39m\u001b[38;5;124m'\u001b[39m):\n\u001b[0;32m      4\u001b[0m     n \u001b[38;5;241m=\u001b[39m \u001b[38;5;28minput\u001b[39m(\u001b[38;5;124m\"\u001b[39m\u001b[38;5;124mperoleh: \u001b[39m\u001b[38;5;124m\"\u001b[39m)\n\u001b[1;32m----> 5\u001b[0m     \u001b[38;5;28mprint\u001b[39m(\u001b[38;5;124m'\u001b[39m\u001b[38;5;124mdapat angka \u001b[39m\u001b[38;5;132;01m{}\u001b[39;00m\u001b[38;5;124m'\u001b[39m\u001b[38;5;241m.\u001b[39mformat(\u001b[38;5;28;43mint\u001b[39;49m\u001b[43m(\u001b[49m\u001b[43mn\u001b[49m\u001b[43m)\u001b[49m))\n",
      "\u001b[1;31mValueError\u001b[0m: invalid literal for int() with base 10: 'z'"
     ]
    }
   ],
   "source": [
    "n = \"\"\n",
    "\n",
    "while(n != 'z'):\n",
    "    n = input(\"peroleh: \")\n",
    "    print('dapat angka {}'.format(int(n)))"
   ]
  },
  {
   "cell_type": "code",
   "execution_count": 4,
   "id": "9d6fc39e",
   "metadata": {},
   "outputs": [
    {
     "name": "stdout",
     "output_type": "stream",
     "text": [
      "peroleh: 1\n",
      "dapat angka 1\n",
      "peroleh: 3\n",
      "dapat angka 3\n",
      "peroleh: Y\n",
      "dapat error <class 'ValueError'>\n",
      "peroleh: z\n"
     ]
    }
   ],
   "source": [
    "import sys\n",
    "\n",
    "n=''\n",
    "\n",
    "while(n!='z'):\n",
    "    try:\n",
    "        n = input('peroleh: ')\n",
    "        print('dapat angka {}'.format(int(n)))\n",
    "    except:\n",
    "        if n == 'z':\n",
    "            pass\n",
    "        else:\n",
    "            print('dapat error {}'.format(sys.exc_info()[0]))"
   ]
  }
 ],
 "metadata": {
  "kernelspec": {
   "display_name": "Python 3 (ipykernel)",
   "language": "python",
   "name": "python3"
  },
  "language_info": {
   "codemirror_mode": {
    "name": "ipython",
    "version": 3
   },
   "file_extension": ".py",
   "mimetype": "text/x-python",
   "name": "python",
   "nbconvert_exporter": "python",
   "pygments_lexer": "ipython3",
   "version": "3.9.12"
  }
 },
 "nbformat": 4,
 "nbformat_minor": 5
}
