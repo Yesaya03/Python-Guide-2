{
 "cells": [
  {
   "cell_type": "markdown",
   "id": "22ed41de",
   "metadata": {},
   "source": [
    "Break Statement\n",
    "\n",
    "* Break statement stops the loop then exits, followed by executing the statement after the loop block\n",
    "* If you have a nested loop, a break statement will stop the loop according to the level or loop where it is.\n",
    "* But if it is placed in a loop with a second depth, for example, only that loop stops, no main loop"
   ]
  },
  {
   "cell_type": "code",
   "execution_count": 2,
   "id": "5d8ebc1e",
   "metadata": {},
   "outputs": [
    {
     "name": "stdout",
     "output_type": "stream",
     "text": [
      "D\n",
      "a\n",
      "t\n",
      "a\n"
     ]
    }
   ],
   "source": [
    "for i in 'Data Science':\n",
    "    if i == \" \":\n",
    "        break\n",
    "    print(i)"
   ]
  },
  {
   "cell_type": "code",
   "execution_count": 1,
   "id": "eb24f5cd",
   "metadata": {},
   "outputs": [
    {
     "name": "stdout",
     "output_type": "stream",
     "text": [
      "warna red\n",
      "warna yellow\n"
     ]
    }
   ],
   "source": [
    "color = ['red','yellow','green','blue','white']\n",
    "\n",
    "for i in color:\n",
    "    if i == 'green':\n",
    "        break\n",
    "    print('warna {}'.format(i))"
   ]
  },
  {
   "cell_type": "code",
   "execution_count": 2,
   "id": "605827bf",
   "metadata": {},
   "outputs": [
    {
     "name": "stdout",
     "output_type": "stream",
     "text": [
      "0\n",
      "1\n",
      "2\n",
      "3\n",
      "4\n"
     ]
    }
   ],
   "source": [
    "for i in range(10):\n",
    "    if i == 5:\n",
    "        break\n",
    "    print(i)"
   ]
  }
 ],
 "metadata": {
  "kernelspec": {
   "display_name": "Python 3 (ipykernel)",
   "language": "python",
   "name": "python3"
  },
  "language_info": {
   "codemirror_mode": {
    "name": "ipython",
    "version": 3
   },
   "file_extension": ".py",
   "mimetype": "text/x-python",
   "name": "python",
   "nbconvert_exporter": "python",
   "pygments_lexer": "ipython3",
   "version": "3.9.12"
  }
 },
 "nbformat": 4,
 "nbformat_minor": 5
}
