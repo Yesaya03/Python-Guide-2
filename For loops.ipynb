{
 "cells": [
  {
   "cell_type": "markdown",
   "id": "fe4cfe1f",
   "metadata": {},
   "source": [
    "# For Loops\n",
    "\n",
    "* for loops is a function that can loop over each type of variable in the form of a collection or sequence.\n",
    "* The variable in question can be a list, string, or range\n",
    "* If a list or sequence contains an expression, it will be evaluated first\n",
    "* Then, the first item in the sequence/list will be assigned as iterating_var variable\n",
    "* After that, the block of statements will be executed, continue to the next item, repeating until the entire sequence runs out."
   ]
  },
  {
   "cell_type": "code",
   "execution_count": 2,
   "id": "2e4998b9",
   "metadata": {},
   "outputs": [
    {
     "name": "stdout",
     "output_type": "stream",
     "text": [
      "huruf d\n",
      "huruf a\n",
      "huruf t\n",
      "huruf a\n"
     ]
    }
   ],
   "source": [
    "for i in 'data':\n",
    "    print('huruf {}'.format(i))"
   ]
  },
  {
   "cell_type": "code",
   "execution_count": 5,
   "id": "ff7a1552",
   "metadata": {},
   "outputs": [
    {
     "name": "stdout",
     "output_type": "stream",
     "text": [
      "warna merah\n",
      "warna kuning\n",
      "warna hijau\n"
     ]
    }
   ],
   "source": [
    "color = ['merah','kuning','hijau']\n",
    "\n",
    "for i in color:\n",
    "    print('warna {}'.format(i))"
   ]
  },
  {
   "cell_type": "code",
   "execution_count": 10,
   "id": "6b340b13",
   "metadata": {},
   "outputs": [
    {
     "name": "stdout",
     "output_type": "stream",
     "text": [
      "0\n",
      "1\n",
      "2\n"
     ]
    }
   ],
   "source": [
    "for i in range (3):\n",
    "    print(i)"
   ]
  },
  {
   "cell_type": "code",
   "execution_count": 12,
   "id": "8d83a720",
   "metadata": {},
   "outputs": [
    {
     "name": "stdout",
     "output_type": "stream",
     "text": [
      "0\n",
      "1\n",
      "2\n"
     ]
    }
   ],
   "source": [
    "for i in range (0,3):\n",
    "    print(i)"
   ]
  },
  {
   "cell_type": "markdown",
   "id": "69c78a6a",
   "metadata": {},
   "source": [
    "For multilevel statement"
   ]
  },
  {
   "cell_type": "code",
   "execution_count": 2,
   "id": "0f6ec3bf",
   "metadata": {},
   "outputs": [
    {
     "name": "stdout",
     "output_type": "stream",
     "text": [
      "* * * \n",
      "* * \n",
      "* \n"
     ]
    }
   ],
   "source": [
    "for row in range(3):\n",
    "    for col in range (3):\n",
    "        if row == 0 and col <= 2:\n",
    "            print(\"*\", end=\" \")\n",
    "        elif row == 1 and col <= 1:\n",
    "            print(\"*\", end=\" \")\n",
    "        elif row == 2 and col == 0:\n",
    "            print(\"*\", end=\" \")\n",
    "    print()"
   ]
  },
  {
   "attachments": {
    "ROW%20DAN%20BARIS.png": {
     "image/png": "[encoded data removed]"
    }
   },
   "cell_type": "markdown",
   "id": "a7b3a17f",
   "metadata": {},
   "source": [
    "Illustration makes easy to draw stars.\n",
    "\n",
    "![ROW%20DAN%20BARIS.png](attachment:ROW%20DAN%20BARIS.png)"
   ]
  },
  {
   "cell_type": "code",
   "execution_count": 20,
   "id": "dff5d1ab",
   "metadata": {},
   "outputs": [
    {
     "name": "stdout",
     "output_type": "stream",
     "text": [
      "* * * * \n",
      "* * * \n",
      "* * \n",
      "* \n"
     ]
    }
   ],
   "source": [
    "for row in range(4):\n",
    "    for col in range (4):\n",
    "        if row == 0 and col <= 3:\n",
    "            print(\"*\", end=\" \")\n",
    "        elif row == 1 and col <= 2:\n",
    "            print(\"*\", end=\" \")\n",
    "        elif row == 2 and col <= 1:\n",
    "            print(\"*\", end=\" \")\n",
    "        elif row == 3 and col == 0:\n",
    "            print(\"*\", end=\" \")\n",
    "    print()"
   ]
  },
  {
   "cell_type": "markdown",
   "id": "a46157c8",
   "metadata": {},
   "source": [
    "# Else after For Statement\n",
    "\n",
    "\n",
    "The else function after for is a function that takes precedence over search loops - to provide a program exit when the search is not found."
   ]
  },
  {
   "cell_type": "code",
   "execution_count": 1,
   "id": "d63f7718",
   "metadata": {},
   "outputs": [
    {
     "name": "stdout",
     "output_type": "stream",
     "text": [
      "1 adalah bukan genap\n",
      "2 adalah genap\n"
     ]
    }
   ],
   "source": [
    "for i in range (1,7):\n",
    "    if i % 2 == 0:\n",
    "        print('{} adalah genap'.format(i))\n",
    "        break\n",
    "    else:\n",
    "        print('{} adalah bukan genap'.format(i))"
   ]
  },
  {
   "cell_type": "code",
   "execution_count": 3,
   "id": "aa9552f4",
   "metadata": {},
   "outputs": [
    {
     "name": "stdout",
     "output_type": "stream",
     "text": [
      "1 adalah bukan genap\n",
      "2 adalah genap\n",
      "3 adalah bukan genap\n",
      "4 adalah genap\n",
      "5 adalah bukan genap\n",
      "6 adalah genap\n"
     ]
    }
   ],
   "source": [
    "for i in range (1,7):\n",
    "    if i % 2 == 0:\n",
    "        print('{} adalah genap'.format(i))\n",
    "    else:\n",
    "        print('{} adalah bukan genap'.format(i))"
   ]
  },
  {
   "cell_type": "code",
   "execution_count": 4,
   "id": "040edaf0",
   "metadata": {},
   "outputs": [
    {
     "name": "stdout",
     "output_type": "stream",
     "text": [
      "5 adalah bilangan kelipatan 5\n",
      "10 adalah bilangan kelipatan 5\n",
      "15 adalah bilangan kelipatan 5\n",
      "20 adalah bilangan kelipatan 5\n",
      "25 adalah bilangan kelipatan 5\n",
      "30 adalah bilangan kelipatan 5\n",
      "35 adalah bilangan kelipatan 5\n",
      "40 adalah bilangan kelipatan 5\n",
      "45 adalah bilangan kelipatan 5\n",
      "50 adalah bilangan kelipatan 5\n",
      "55 adalah bilangan kelipatan 5\n",
      "60 adalah bilangan kelipatan 5\n",
      "65 adalah bilangan kelipatan 5\n",
      "70 adalah bilangan kelipatan 5\n",
      "75 adalah bilangan kelipatan 5\n",
      "80 adalah bilangan kelipatan 5\n",
      "85 adalah bilangan kelipatan 5\n",
      "90 adalah bilangan kelipatan 5\n",
      "95 adalah bilangan kelipatan 5\n",
      "100 adalah bilangan kelipatan 5\n"
     ]
    }
   ],
   "source": [
    "for i in range (5,101,5):\n",
    "    if i % 5 == 0:\n",
    "        print('{} adalah bilangan kelipatan 5'.format(i))\n",
    "    else:\n",
    "        print('{} adalah bukan kelipatan 5'.format(i))"
   ]
  }
 ],
 "metadata": {
  "kernelspec": {
   "display_name": "Python 3 (ipykernel)",
   "language": "python",
   "name": "python3"
  },
  "language_info": {
   "codemirror_mode": {
    "name": "ipython",
    "version": 3
   },
   "file_extension": ".py",
   "mimetype": "text/x-python",
   "name": "python",
   "nbconvert_exporter": "python",
   "pygments_lexer": "ipython3",
   "version": "3.9.12"
  }
 },
 "nbformat": 4,
 "nbformat_minor": 5
}
