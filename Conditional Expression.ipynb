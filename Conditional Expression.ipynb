{
 "cells": [
  {
   "cell_type": "markdown",
   "id": "c91f9a97",
   "metadata": {},
   "source": [
    "# Conditional Expression"
   ]
  },
  {
   "cell_type": "markdown",
   "id": "52abf00a",
   "metadata": {},
   "source": [
    "if\n",
    "\n",
    "* In Python, the expression is placed after the if statement, and then the decision determined based on the truth value of the expression.\n",
    "* If the expression evaluates to True, the block of statements inside the if statement will be executed.\n",
    "* By convention, this block have indented after a colon (:)\n",
    "* If the expression evaluates to False, the next block (after the IF statement) will be executed."
   ]
  },
  {
   "cell_type": "code",
   "execution_count": 3,
   "id": "68676181",
   "metadata": {},
   "outputs": [
    {
     "name": "stdout",
     "output_type": "stream",
     "text": [
      "Yes, My name is Ku Yo Rim\n"
     ]
    }
   ],
   "source": [
    "myname = 'Ku Yo Rim'\n",
    "\n",
    "if myname:\n",
    "    print('Yes, My name is {}'.format(myname))"
   ]
  },
  {
   "cell_type": "markdown",
   "id": "92269e53",
   "metadata": {},
   "source": [
    "Else\n",
    "\n",
    "* Else statement can be combined with IF statement, as a way out when the evaluation condition/result is False\n",
    "* Else is optional and singular (If you want multilevel condition, then use elif statement)."
   ]
  },
  {
   "cell_type": "code",
   "execution_count": 6,
   "id": "b6f90fa5",
   "metadata": {},
   "outputs": [
    {
     "name": "stdout",
     "output_type": "stream",
     "text": [
      "Input your age: 18\n",
      "Yes, you have card identity\n"
     ]
    }
   ],
   "source": [
    "age = int(input('Input your age: '))\n",
    "           \n",
    "if age >= 17:\n",
    "    print('Yes, you have card identity')\n",
    "else:\n",
    "    print(\"No, you don't have card identity\")"
   ]
  },
  {
   "cell_type": "code",
   "execution_count": 7,
   "id": "2db115c6",
   "metadata": {},
   "outputs": [
    {
     "name": "stdout",
     "output_type": "stream",
     "text": [
      "Input your age: 18\n",
      "Your ould 18 and you have a identity card\n"
     ]
    }
   ],
   "source": [
    "age = int(input('Input your age: '))\n",
    "           \n",
    "if usia >= 17:\n",
    "    print('Your ould {} and you have a identity card'.format(age))\n",
    "else:\n",
    "    print(\"Your ould {} and you don't have a identity card\".format(age))"
   ]
  },
  {
   "cell_type": "markdown",
   "id": "9054df5e",
   "metadata": {},
   "source": [
    "Elif\n",
    "\n",
    "* Elif is short for else if\n",
    "* Elif is multilevel if alternative\n",
    "* An If statement can be followed by one or more elif statements (optional & unrestricted)"
   ]
  },
  {
   "cell_type": "code",
   "execution_count": 8,
   "id": "a1914781",
   "metadata": {},
   "outputs": [
    {
     "name": "stdout",
     "output_type": "stream",
     "text": [
      "Input your score: 50\n",
      "Your score is C\n"
     ]
    }
   ],
   "source": [
    "score = int(input('Input your score: '))\n",
    "\n",
    "if score >=80:\n",
    "    print('Your score is A')\n",
    "elif score >=60:\n",
    "    print('Your score is B')\n",
    "else:\n",
    "    print('Your score is C')"
   ]
  },
  {
   "cell_type": "code",
   "execution_count": 9,
   "id": "61464cdb",
   "metadata": {},
   "outputs": [
    {
     "name": "stdout",
     "output_type": "stream",
     "text": [
      "Input your score: 30\n",
      "You must take again\n"
     ]
    }
   ],
   "source": [
    "score = int(input('Input your score: '))\n",
    "\n",
    "if score >=80:\n",
    "    print('Your score is A')\n",
    "elif score >=60:\n",
    "    print('Your score is B')\n",
    "elif score >= 40:\n",
    "    print('Your score is c')\n",
    "else:\n",
    "    print('You must take again')"
   ]
  }
 ],
 "metadata": {
  "kernelspec": {
   "display_name": "Python 3 (ipykernel)",
   "language": "python",
   "name": "python3"
  },
  "language_info": {
   "codemirror_mode": {
    "name": "ipython",
    "version": 3
   },
   "file_extension": ".py",
   "mimetype": "text/x-python",
   "name": "python",
   "nbconvert_exporter": "python",
   "pygments_lexer": "ipython3",
   "version": "3.9.12"
  }
 },
 "nbformat": 4,
 "nbformat_minor": 5
}
