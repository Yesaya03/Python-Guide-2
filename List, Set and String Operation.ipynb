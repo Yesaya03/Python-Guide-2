{
 "cells": [
  {
   "cell_type": "markdown",
   "id": "9c3c22d0",
   "metadata": {},
   "source": [
    "# List, Set and String Operation"
   ]
  },
  {
   "cell_type": "markdown",
   "id": "f557ff35",
   "metadata": {},
   "source": [
    "The topics discussed:\n",
    "\n",
    "1. len()\n",
    "2. min() dan max()\n",
    "3. count()\n",
    "4. Merging and replication on the list data type\n",
    "5. Multiplier function to create a new list\n",
    "6. range()\n",
    "7. in and not in function\n",
    "8. Assigning and exchanging values for a list/set data type variable\n",
    "9. sort()"
   ]
  },
  {
   "cell_type": "markdown",
   "id": "0b6486d3",
   "metadata": {},
   "source": [
    "## len()\n",
    "\n",
    "* Previously, we have seen that slicing used for sequence\n",
    "* len() which will calculate the length or number of elements from the list (for strings to count the number of characters)"
   ]
  },
  {
   "cell_type": "code",
   "execution_count": 1,
   "id": "686fd4d7",
   "metadata": {},
   "outputs": [],
   "source": [
    "a = [3,5,6,7,7,7]"
   ]
  },
  {
   "cell_type": "code",
   "execution_count": 2,
   "id": "613e023f",
   "metadata": {},
   "outputs": [
    {
     "name": "stdout",
     "output_type": "stream",
     "text": [
      "[3, 5, 6, 7, 7, 7]\n"
     ]
    }
   ],
   "source": [
    "print(a)"
   ]
  },
  {
   "cell_type": "code",
   "execution_count": 3,
   "id": "03e82639",
   "metadata": {},
   "outputs": [
    {
     "data": {
      "text/plain": [
       "6"
      ]
     },
     "execution_count": 3,
     "metadata": {},
     "output_type": "execute_result"
    }
   ],
   "source": [
    "len(a)"
   ]
  },
  {
   "cell_type": "code",
   "execution_count": 4,
   "id": "e8eee3f8",
   "metadata": {},
   "outputs": [],
   "source": [
    "b = {3,5,6,7,7,7}  # Remember that the data type set only returns unique values"
   ]
  },
  {
   "cell_type": "code",
   "execution_count": 5,
   "id": "6880cee8",
   "metadata": {},
   "outputs": [
    {
     "name": "stdout",
     "output_type": "stream",
     "text": [
      "{3, 5, 6, 7}\n"
     ]
    }
   ],
   "source": [
    "print(b)"
   ]
  },
  {
   "cell_type": "code",
   "execution_count": 6,
   "id": "475c4dc6",
   "metadata": {},
   "outputs": [
    {
     "data": {
      "text/plain": [
       "4"
      ]
     },
     "execution_count": 6,
     "metadata": {},
     "output_type": "execute_result"
    }
   ],
   "source": [
    "len(b)"
   ]
  },
  {
   "cell_type": "code",
   "execution_count": 7,
   "id": "09fc279c",
   "metadata": {},
   "outputs": [],
   "source": [
    "c = 'Data Science'"
   ]
  },
  {
   "cell_type": "code",
   "execution_count": 8,
   "id": "5c22f33a",
   "metadata": {},
   "outputs": [
    {
     "name": "stdout",
     "output_type": "stream",
     "text": [
      "Data Science\n"
     ]
    }
   ],
   "source": [
    "print(c)"
   ]
  },
  {
   "cell_type": "code",
   "execution_count": 9,
   "id": "72093b4f",
   "metadata": {},
   "outputs": [
    {
     "data": {
      "text/plain": [
       "12"
      ]
     },
     "execution_count": 9,
     "metadata": {},
     "output_type": "execute_result"
    }
   ],
   "source": [
    "len(c)"
   ]
  },
  {
   "cell_type": "markdown",
   "id": "af2883d6",
   "metadata": {},
   "source": [
    "## min() dan max()"
   ]
  },
  {
   "cell_type": "markdown",
   "id": "0be79546",
   "metadata": {},
   "source": [
    "The min() and max() functions are to find out what the minimum and maximum values of a list or set are"
   ]
  },
  {
   "cell_type": "code",
   "execution_count": 10,
   "id": "0d334623",
   "metadata": {},
   "outputs": [],
   "source": [
    "a = [3,5,6,7,7,7]"
   ]
  },
  {
   "cell_type": "code",
   "execution_count": 11,
   "id": "2f3eca69",
   "metadata": {},
   "outputs": [
    {
     "data": {
      "text/plain": [
       "3"
      ]
     },
     "execution_count": 11,
     "metadata": {},
     "output_type": "execute_result"
    }
   ],
   "source": [
    "min(a)"
   ]
  },
  {
   "cell_type": "code",
   "execution_count": 12,
   "id": "e86b4e03",
   "metadata": {},
   "outputs": [
    {
     "data": {
      "text/plain": [
       "3"
      ]
     },
     "execution_count": 12,
     "metadata": {},
     "output_type": "execute_result"
    }
   ],
   "source": [
    "min(b)"
   ]
  },
  {
   "cell_type": "code",
   "execution_count": 13,
   "id": "e97a4aac",
   "metadata": {},
   "outputs": [],
   "source": [
    "b = {3,5,6,7,7,7}"
   ]
  },
  {
   "cell_type": "code",
   "execution_count": 14,
   "id": "159f35ad",
   "metadata": {},
   "outputs": [
    {
     "data": {
      "text/plain": [
       "3"
      ]
     },
     "execution_count": 14,
     "metadata": {},
     "output_type": "execute_result"
    }
   ],
   "source": [
    "min(b)"
   ]
  },
  {
   "cell_type": "code",
   "execution_count": 15,
   "id": "5cd7083f",
   "metadata": {},
   "outputs": [
    {
     "data": {
      "text/plain": [
       "7"
      ]
     },
     "execution_count": 15,
     "metadata": {},
     "output_type": "execute_result"
    }
   ],
   "source": [
    "max(b)"
   ]
  },
  {
   "cell_type": "code",
   "execution_count": 16,
   "id": "92642f35",
   "metadata": {},
   "outputs": [],
   "source": [
    "c = ['ayam','sapi','kelinci','kuda','babi','serigala']"
   ]
  },
  {
   "cell_type": "code",
   "execution_count": 17,
   "id": "0449c570",
   "metadata": {},
   "outputs": [
    {
     "data": {
      "text/plain": [
       "'ayam'"
      ]
     },
     "execution_count": 17,
     "metadata": {},
     "output_type": "execute_result"
    }
   ],
   "source": [
    "min (c)"
   ]
  },
  {
   "cell_type": "code",
   "execution_count": 18,
   "id": "37487fc8",
   "metadata": {},
   "outputs": [
    {
     "data": {
      "text/plain": [
       "'serigala'"
      ]
     },
     "execution_count": 18,
     "metadata": {},
     "output_type": "execute_result"
    }
   ],
   "source": [
    "max (c)"
   ]
  },
  {
   "cell_type": "markdown",
   "id": "c99ad11b",
   "metadata": {},
   "source": [
    "## count()"
   ]
  },
  {
   "cell_type": "markdown",
   "id": "8580b1f5",
   "metadata": {},
   "source": [
    "The count() function is used to find how many times an object appears in the list. (Can't be done on set data type)."
   ]
  },
  {
   "cell_type": "code",
   "execution_count": 19,
   "id": "030a6d95",
   "metadata": {},
   "outputs": [],
   "source": [
    "a = [3,5,6,7,7,7]"
   ]
  },
  {
   "cell_type": "code",
   "execution_count": 20,
   "id": "bf5b6383",
   "metadata": {},
   "outputs": [
    {
     "data": {
      "text/plain": [
       "1"
      ]
     },
     "execution_count": 20,
     "metadata": {},
     "output_type": "execute_result"
    }
   ],
   "source": [
    "a.count(5)"
   ]
  },
  {
   "cell_type": "code",
   "execution_count": 21,
   "id": "a3bfaffc",
   "metadata": {},
   "outputs": [
    {
     "data": {
      "text/plain": [
       "3"
      ]
     },
     "execution_count": 21,
     "metadata": {},
     "output_type": "execute_result"
    }
   ],
   "source": [
    "a.count(7)"
   ]
  },
  {
   "cell_type": "code",
   "execution_count": 22,
   "id": "3ff7d989",
   "metadata": {},
   "outputs": [],
   "source": [
    "c = \"Data Science\""
   ]
  },
  {
   "cell_type": "code",
   "execution_count": 23,
   "id": "bbf28a03",
   "metadata": {},
   "outputs": [
    {
     "data": {
      "text/plain": [
       "2"
      ]
     },
     "execution_count": 23,
     "metadata": {},
     "output_type": "execute_result"
    }
   ],
   "source": [
    "c.count(\"a\")"
   ]
  },
  {
   "cell_type": "markdown",
   "id": "4a5b6721",
   "metadata": {},
   "source": [
    "## Merging and replication on the list data type"
   ]
  },
  {
   "cell_type": "markdown",
   "id": "78fdde2a",
   "metadata": {},
   "source": [
    "The list also allows for merging (+) and replication or multiplication (*)"
   ]
  },
  {
   "cell_type": "code",
   "execution_count": 24,
   "id": "87066397",
   "metadata": {},
   "outputs": [],
   "source": [
    "a = [3,5,6,7,7,7]"
   ]
  },
  {
   "cell_type": "code",
   "execution_count": 25,
   "id": "da61c837",
   "metadata": {},
   "outputs": [],
   "source": [
    "d = [\"d\",\"a\",\"t\",\"a\"]"
   ]
  },
  {
   "cell_type": "code",
   "execution_count": 26,
   "id": "9d2852aa",
   "metadata": {},
   "outputs": [
    {
     "data": {
      "text/plain": [
       "[3, 5, 6, 7, 7, 7, 'd', 'a', 't', 'a']"
      ]
     },
     "execution_count": 26,
     "metadata": {},
     "output_type": "execute_result"
    }
   ],
   "source": [
    "a + d"
   ]
  },
  {
   "cell_type": "code",
   "execution_count": 27,
   "id": "db2d36f4",
   "metadata": {},
   "outputs": [],
   "source": [
    "d = [\"d\",\"a\",\"t\",\"a\"]"
   ]
  },
  {
   "cell_type": "code",
   "execution_count": 28,
   "id": "cd9c10fc",
   "metadata": {},
   "outputs": [
    {
     "data": {
      "text/plain": [
       "['d', 'a', 't', 'a', 'd', 'a', 't', 'a']"
      ]
     },
     "execution_count": 28,
     "metadata": {},
     "output_type": "execute_result"
    }
   ],
   "source": [
    "d*2"
   ]
  },
  {
   "cell_type": "markdown",
   "id": "6cdb02d8",
   "metadata": {},
   "source": [
    "The multiplier function also can be used to initialization a List"
   ]
  },
  {
   "cell_type": "code",
   "execution_count": 29,
   "id": "9f26446d",
   "metadata": {},
   "outputs": [],
   "source": [
    "tiga = [3]*3"
   ]
  },
  {
   "cell_type": "code",
   "execution_count": 30,
   "id": "7d5fc88b",
   "metadata": {},
   "outputs": [
    {
     "name": "stdout",
     "output_type": "stream",
     "text": [
      "[3, 3, 3]\n"
     ]
    }
   ],
   "source": [
    "print(tiga)"
   ]
  },
  {
   "cell_type": "code",
   "execution_count": 31,
   "id": "9d9a7d7c",
   "metadata": {},
   "outputs": [
    {
     "data": {
      "text/plain": [
       "3"
      ]
     },
     "execution_count": 31,
     "metadata": {},
     "output_type": "execute_result"
    }
   ],
   "source": [
    "len(tiga)"
   ]
  },
  {
   "cell_type": "markdown",
   "id": "6e105bc2",
   "metadata": {},
   "source": [
    "## range()\n",
    "\n",
    "* The range() function gives a series of numbers with another pattern.\n",
    "* to perform loops (example for) in accessing the element list, we can use range() function python.\n",
    "* more details on loop operations will be discussed in the Loop and Loop control module."
   ]
  },
  {
   "cell_type": "markdown",
   "id": "92998450",
   "metadata": {},
   "source": [
    "The range() function can have 3 parameters"
   ]
  },
  {
   "cell_type": "markdown",
   "id": "b0850d12",
   "metadata": {},
   "source": [
    "   * Range with 1 parameter n: create a series of numbers starting from 0, as many as n numbers."
   ]
  },
  {
   "cell_type": "code",
   "execution_count": 32,
   "id": "4bc65fe3",
   "metadata": {},
   "outputs": [
    {
     "name": "stdout",
     "output_type": "stream",
     "text": [
      "0\n",
      "1\n",
      "2\n",
      "3\n"
     ]
    }
   ],
   "source": [
    "for i in range(4):\n",
    " print(i)"
   ]
  },
  {
   "cell_type": "markdown",
   "id": "38e01118",
   "metadata": {},
   "source": [
    "* Range with 2 parameters n,p: create a series of numbers starting from n, until before p (number p does not follow)\n",
    "* Often referred to as inclusive of n (series starting with number n) and exclusive of p (series not including numbers p)"
   ]
  },
  {
   "cell_type": "code",
   "execution_count": 33,
   "id": "1dfd4e46",
   "metadata": {},
   "outputs": [
    {
     "name": "stdout",
     "output_type": "stream",
     "text": [
      "1\n",
      "2\n",
      "3\n"
     ]
    }
   ],
   "source": [
    "for i in range(1,4):\n",
    " print(i)"
   ]
  },
  {
   "cell_type": "markdown",
   "id": "1a69415e",
   "metadata": {},
   "source": [
    "* Range with 3 parameters n, p, q: create a series of numbers starting from the value n, until before p (the number p does not follow), with each element having a difference of q"
   ]
  },
  {
   "cell_type": "code",
   "execution_count": 34,
   "id": "febab557",
   "metadata": {},
   "outputs": [
    {
     "name": "stdout",
     "output_type": "stream",
     "text": [
      "1\n",
      "3\n",
      "5\n",
      "7\n",
      "9\n"
     ]
    }
   ],
   "source": [
    "for i in range(1,10,2):\n",
    " print(i)"
   ]
  },
  {
   "cell_type": "markdown",
   "id": "1ae0a6bf",
   "metadata": {},
   "source": [
    "## in and not in\n",
    "\n",
    "* Operators in and not in: To find out a value or object is in the list\n",
    "* This function will return boolean values True and False"
   ]
  },
  {
   "cell_type": "code",
   "execution_count": 35,
   "id": "6dea06bb",
   "metadata": {},
   "outputs": [],
   "source": [
    "kita = 'aku dan kamu'"
   ]
  },
  {
   "cell_type": "code",
   "execution_count": 36,
   "id": "b823ac6b",
   "metadata": {},
   "outputs": [
    {
     "data": {
      "text/plain": [
       "True"
      ]
     },
     "execution_count": 36,
     "metadata": {},
     "output_type": "execute_result"
    }
   ],
   "source": [
    "'aku' in kita"
   ]
  },
  {
   "cell_type": "code",
   "execution_count": 37,
   "id": "1c9eaa39",
   "metadata": {},
   "outputs": [
    {
     "data": {
      "text/plain": [
       "False"
      ]
     },
     "execution_count": 37,
     "metadata": {},
     "output_type": "execute_result"
    }
   ],
   "source": [
    "'dia' in kita"
   ]
  },
  {
   "cell_type": "code",
   "execution_count": 38,
   "id": "a1dea295",
   "metadata": {},
   "outputs": [
    {
     "data": {
      "text/plain": [
       "False"
      ]
     },
     "execution_count": 38,
     "metadata": {},
     "output_type": "execute_result"
    }
   ],
   "source": [
    "'kamu' not in kita"
   ]
  },
  {
   "cell_type": "markdown",
   "id": "eab364d4",
   "metadata": {},
   "source": [
    "## Assigning and exchanging values for a list/set data type variable\n"
   ]
  },
  {
   "cell_type": "markdown",
   "id": "c318b8af",
   "metadata": {},
   "source": [
    "We sometimes have several variables and need to assign values to those variables. Conventionally, you can mark the variables with the values we want, one by one."
   ]
  },
  {
   "cell_type": "code",
   "execution_count": 39,
   "id": "3fb4a620",
   "metadata": {},
   "outputs": [],
   "source": [
    "makanan = ['bakso', 'bakso telur', 'pedas']"
   ]
  },
  {
   "cell_type": "code",
   "execution_count": 40,
   "id": "40bf7fd1",
   "metadata": {},
   "outputs": [
    {
     "name": "stdout",
     "output_type": "stream",
     "text": [
      "['bakso', 'bakso telur', 'pedas']\n"
     ]
    }
   ],
   "source": [
    "print(makanan)"
   ]
  },
  {
   "cell_type": "code",
   "execution_count": 41,
   "id": "cb7185dc",
   "metadata": {},
   "outputs": [],
   "source": [
    "nama = makanan[0]"
   ]
  },
  {
   "cell_type": "code",
   "execution_count": 42,
   "id": "2d6ddb6f",
   "metadata": {},
   "outputs": [
    {
     "name": "stdout",
     "output_type": "stream",
     "text": [
      "bakso\n"
     ]
    }
   ],
   "source": [
    "print(nama)"
   ]
  },
  {
   "cell_type": "code",
   "execution_count": 43,
   "id": "8a6d011c",
   "metadata": {},
   "outputs": [],
   "source": [
    "jenis = makanan[1]"
   ]
  },
  {
   "cell_type": "code",
   "execution_count": 44,
   "id": "7ecf001e",
   "metadata": {},
   "outputs": [
    {
     "name": "stdout",
     "output_type": "stream",
     "text": [
      "bakso telur\n"
     ]
    }
   ],
   "source": [
    "print(jenis)"
   ]
  },
  {
   "cell_type": "code",
   "execution_count": 45,
   "id": "acd3753d",
   "metadata": {},
   "outputs": [],
   "source": [
    "rasa = makanan[2]"
   ]
  },
  {
   "cell_type": "code",
   "execution_count": 46,
   "id": "e025159e",
   "metadata": {},
   "outputs": [
    {
     "name": "stdout",
     "output_type": "stream",
     "text": [
      "pedas\n"
     ]
    }
   ],
   "source": [
    "print(rasa)"
   ]
  },
  {
   "cell_type": "markdown",
   "id": "51f159db",
   "metadata": {},
   "source": [
    "* Python has a more practical way\n",
    "* We can assign values to several variables at once from the element list or tuple without the need to mark one by one (Cannot be used on data of type data set)"
   ]
  },
  {
   "cell_type": "code",
   "execution_count": 47,
   "id": "552703e9",
   "metadata": {},
   "outputs": [],
   "source": [
    "makanan = ['bakso','bakso telur','pedas']"
   ]
  },
  {
   "cell_type": "code",
   "execution_count": 48,
   "id": "225ba0d2",
   "metadata": {},
   "outputs": [],
   "source": [
    "nama, jenis, rasa = makanan"
   ]
  },
  {
   "cell_type": "code",
   "execution_count": 49,
   "id": "ec912414",
   "metadata": {},
   "outputs": [
    {
     "data": {
      "text/plain": [
       "'bakso'"
      ]
     },
     "execution_count": 49,
     "metadata": {},
     "output_type": "execute_result"
    }
   ],
   "source": [
    "nama"
   ]
  },
  {
   "cell_type": "code",
   "execution_count": 50,
   "id": "5592f85f",
   "metadata": {},
   "outputs": [
    {
     "data": {
      "text/plain": [
       "'bakso telur'"
      ]
     },
     "execution_count": 50,
     "metadata": {},
     "output_type": "execute_result"
    }
   ],
   "source": [
    "jenis"
   ]
  },
  {
   "cell_type": "code",
   "execution_count": 51,
   "id": "c8743289",
   "metadata": {},
   "outputs": [
    {
     "data": {
      "text/plain": [
       "'pedas'"
      ]
     },
     "execution_count": 51,
     "metadata": {},
     "output_type": "execute_result"
    }
   ],
   "source": [
    "rasa"
   ]
  },
  {
   "cell_type": "code",
   "execution_count": 52,
   "id": "977f4836",
   "metadata": {},
   "outputs": [],
   "source": [
    "minuman = ('jus','jus mangga','manis')"
   ]
  },
  {
   "cell_type": "code",
   "execution_count": 53,
   "id": "f40525ae",
   "metadata": {},
   "outputs": [],
   "source": [
    "nama, jenis, rasa = minuman"
   ]
  },
  {
   "cell_type": "code",
   "execution_count": 54,
   "id": "872221a7",
   "metadata": {},
   "outputs": [
    {
     "data": {
      "text/plain": [
       "'jus'"
      ]
     },
     "execution_count": 54,
     "metadata": {},
     "output_type": "execute_result"
    }
   ],
   "source": [
    "nama"
   ]
  },
  {
   "cell_type": "code",
   "execution_count": 55,
   "id": "ceffeda0",
   "metadata": {},
   "outputs": [
    {
     "data": {
      "text/plain": [
       "'jus mangga'"
      ]
     },
     "execution_count": 55,
     "metadata": {},
     "output_type": "execute_result"
    }
   ],
   "source": [
    "jenis"
   ]
  },
  {
   "cell_type": "code",
   "execution_count": 56,
   "id": "a3ab9d0b",
   "metadata": {},
   "outputs": [
    {
     "data": {
      "text/plain": [
       "'manis'"
      ]
     },
     "execution_count": 56,
     "metadata": {},
     "output_type": "execute_result"
    }
   ],
   "source": [
    "rasa"
   ]
  },
  {
   "cell_type": "markdown",
   "id": "1a68103c",
   "metadata": {},
   "source": [
    "Of course, the number of variables and the count of items in the List/Tuple must be the same. Otherwise, Python will give a ValueError."
   ]
  },
  {
   "cell_type": "code",
   "execution_count": 57,
   "id": "a60ffec8",
   "metadata": {},
   "outputs": [],
   "source": [
    "minuman = ('jus','jus mangga','manis')"
   ]
  },
  {
   "cell_type": "code",
   "execution_count": 58,
   "id": "b1773909",
   "metadata": {},
   "outputs": [
    {
     "ename": "ValueError",
     "evalue": "not enough values to unpack (expected 4, got 3)",
     "output_type": "error",
     "traceback": [
      "\u001b[1;31m---------------------------------------------------------------------------\u001b[0m",
      "\u001b[1;31mValueError\u001b[0m                                Traceback (most recent call last)",
      "Input \u001b[1;32mIn [58]\u001b[0m, in \u001b[0;36m<cell line: 1>\u001b[1;34m()\u001b[0m\n\u001b[1;32m----> 1\u001b[0m nama, jenis, rasa, harga \u001b[38;5;241m=\u001b[39m minuman\n",
      "\u001b[1;31mValueError\u001b[0m: not enough values to unpack (expected 4, got 3)"
     ]
    }
   ],
   "source": [
    "nama, jenis, rasa, harga = minuman"
   ]
  },
  {
   "cell_type": "markdown",
   "id": "106c85cb",
   "metadata": {},
   "source": [
    "The uses of multi-variable assignments can exchange the values of two or more variables."
   ]
  },
  {
   "cell_type": "code",
   "execution_count": 59,
   "id": "00b319ef",
   "metadata": {},
   "outputs": [],
   "source": [
    "wajah,sifat = 'menarik', 'baik'"
   ]
  },
  {
   "cell_type": "code",
   "execution_count": 60,
   "id": "ce28c7a4",
   "metadata": {},
   "outputs": [],
   "source": [
    "wajah, sifat = sifat, wajah"
   ]
  },
  {
   "cell_type": "code",
   "execution_count": 61,
   "id": "65e68ef8",
   "metadata": {},
   "outputs": [
    {
     "data": {
      "text/plain": [
       "'baik'"
      ]
     },
     "execution_count": 61,
     "metadata": {},
     "output_type": "execute_result"
    }
   ],
   "source": [
    "wajah"
   ]
  },
  {
   "cell_type": "code",
   "execution_count": 62,
   "id": "f31f7a21",
   "metadata": {},
   "outputs": [
    {
     "data": {
      "text/plain": [
       "'menarik'"
      ]
     },
     "execution_count": 62,
     "metadata": {},
     "output_type": "execute_result"
    }
   ],
   "source": [
    "sifat"
   ]
  },
  {
   "cell_type": "markdown",
   "id": "77e21068",
   "metadata": {},
   "source": [
    "## sort()\n",
    "\n",
    "* The sort() method: sorts a number or a sequence of letters\n",
    "* This sort() method can sort lists (cannot be used in data types set and tuples)"
   ]
  },
  {
   "cell_type": "code",
   "execution_count": 63,
   "id": "d8573de4",
   "metadata": {},
   "outputs": [],
   "source": [
    "nilai = [40,20,30,10,50]"
   ]
  },
  {
   "cell_type": "code",
   "execution_count": 64,
   "id": "9a68150c",
   "metadata": {},
   "outputs": [],
   "source": [
    "nilai.sort()"
   ]
  },
  {
   "cell_type": "code",
   "execution_count": 65,
   "id": "c5d71928",
   "metadata": {},
   "outputs": [
    {
     "name": "stdout",
     "output_type": "stream",
     "text": [
      "[10, 20, 30, 40, 50]\n"
     ]
    }
   ],
   "source": [
    "print(nilai)"
   ]
  },
  {
   "cell_type": "code",
   "execution_count": 66,
   "id": "d1e15233",
   "metadata": {},
   "outputs": [],
   "source": [
    "siswa = ['Calvin','Edo','Prayogi','Anjeng','Alex','Zahra']"
   ]
  },
  {
   "cell_type": "code",
   "execution_count": 67,
   "id": "3897007a",
   "metadata": {},
   "outputs": [],
   "source": [
    "siswa.sort()"
   ]
  },
  {
   "cell_type": "code",
   "execution_count": 68,
   "id": "2822492a",
   "metadata": {},
   "outputs": [
    {
     "name": "stdout",
     "output_type": "stream",
     "text": [
      "['Alex', 'Anjeng', 'Calvin', 'Edo', 'Prayogi', 'Zahra']\n"
     ]
    }
   ],
   "source": [
    "print(siswa)"
   ]
  },
  {
   "cell_type": "code",
   "execution_count": 69,
   "id": "2b011f79",
   "metadata": {},
   "outputs": [],
   "source": [
    "nilai = {40,20,30,10,50}"
   ]
  },
  {
   "cell_type": "code",
   "execution_count": 70,
   "id": "c320ce4d",
   "metadata": {},
   "outputs": [
    {
     "ename": "AttributeError",
     "evalue": "'set' object has no attribute 'sort'",
     "output_type": "error",
     "traceback": [
      "\u001b[1;31m---------------------------------------------------------------------------\u001b[0m",
      "\u001b[1;31mAttributeError\u001b[0m                            Traceback (most recent call last)",
      "Input \u001b[1;32mIn [70]\u001b[0m, in \u001b[0;36m<cell line: 1>\u001b[1;34m()\u001b[0m\n\u001b[1;32m----> 1\u001b[0m \u001b[43mnilai\u001b[49m\u001b[38;5;241;43m.\u001b[39;49m\u001b[43msort\u001b[49m()\n",
      "\u001b[1;31mAttributeError\u001b[0m: 'set' object has no attribute 'sort'"
     ]
    }
   ],
   "source": [
    "nilai.sort()"
   ]
  },
  {
   "cell_type": "markdown",
   "id": "9af2acbb",
   "metadata": {},
   "source": [
    "We can also enter the keyword reverse = True in the parameter to make the order reverse (descending)\n",
    "\n",
    "If reverse = False, then the order is ascending"
   ]
  },
  {
   "cell_type": "code",
   "execution_count": 71,
   "id": "a6b4cf41",
   "metadata": {},
   "outputs": [],
   "source": [
    "huruf = ['d','i','a']"
   ]
  },
  {
   "cell_type": "code",
   "execution_count": 72,
   "id": "25004614",
   "metadata": {},
   "outputs": [],
   "source": [
    "huruf.sort()"
   ]
  },
  {
   "cell_type": "code",
   "execution_count": 73,
   "id": "f6593588",
   "metadata": {},
   "outputs": [
    {
     "name": "stdout",
     "output_type": "stream",
     "text": [
      "['a', 'd', 'i']\n"
     ]
    }
   ],
   "source": [
    "print(huruf)"
   ]
  },
  {
   "cell_type": "code",
   "execution_count": 74,
   "id": "e4a5d0ad",
   "metadata": {},
   "outputs": [],
   "source": [
    "huruf.sort(reverse=True)"
   ]
  },
  {
   "cell_type": "code",
   "execution_count": 75,
   "id": "e40a13ef",
   "metadata": {},
   "outputs": [
    {
     "name": "stdout",
     "output_type": "stream",
     "text": [
      "['i', 'd', 'a']\n"
     ]
    }
   ],
   "source": [
    "print(huruf)"
   ]
  },
  {
   "cell_type": "markdown",
   "id": "2edebd8c",
   "metadata": {},
   "source": [
    "The sort method cannot sort a list that has numbers and strings."
   ]
  },
  {
   "cell_type": "code",
   "execution_count": 76,
   "id": "9c2298c6",
   "metadata": {},
   "outputs": [],
   "source": [
    "no = ['B',2,1,'A','C']"
   ]
  },
  {
   "cell_type": "code",
   "execution_count": 77,
   "id": "92462fd5",
   "metadata": {},
   "outputs": [
    {
     "ename": "TypeError",
     "evalue": "'<' not supported between instances of 'int' and 'str'",
     "output_type": "error",
     "traceback": [
      "\u001b[1;31m---------------------------------------------------------------------------\u001b[0m",
      "\u001b[1;31mTypeError\u001b[0m                                 Traceback (most recent call last)",
      "Input \u001b[1;32mIn [77]\u001b[0m, in \u001b[0;36m<cell line: 1>\u001b[1;34m()\u001b[0m\n\u001b[1;32m----> 1\u001b[0m \u001b[43mno\u001b[49m\u001b[38;5;241;43m.\u001b[39;49m\u001b[43msort\u001b[49m\u001b[43m(\u001b[49m\u001b[43m)\u001b[49m\n",
      "\u001b[1;31mTypeError\u001b[0m: '<' not supported between instances of 'int' and 'str'"
     ]
    }
   ],
   "source": [
    "no.sort()"
   ]
  },
  {
   "cell_type": "markdown",
   "id": "aa25dfaf",
   "metadata": {},
   "source": [
    "The sort method uses the order of capital letters (uppercase) to be preceded by lowercase letters (lowercase)."
   ]
  },
  {
   "cell_type": "code",
   "execution_count": 78,
   "id": "9054a9e0",
   "metadata": {},
   "outputs": [],
   "source": [
    "nama = [\"Budi\",'calvin','andi']"
   ]
  },
  {
   "cell_type": "code",
   "execution_count": 79,
   "id": "4125f6b1",
   "metadata": {},
   "outputs": [],
   "source": [
    "nama.sort()"
   ]
  },
  {
   "cell_type": "code",
   "execution_count": 80,
   "id": "dbaa66f1",
   "metadata": {},
   "outputs": [
    {
     "name": "stdout",
     "output_type": "stream",
     "text": [
      "['Budi', 'andi', 'calvin']\n"
     ]
    }
   ],
   "source": [
    "print(nama)"
   ]
  },
  {
   "cell_type": "markdown",
   "id": "7e5adb01",
   "metadata": {},
   "source": [
    "* We can enter the keyword st.lower in the parameter\n",
    "* This will make the sort method assume all objects are lowercase, without changing the original state of the object"
   ]
  },
  {
   "cell_type": "code",
   "execution_count": 81,
   "id": "9f8cb26d",
   "metadata": {},
   "outputs": [],
   "source": [
    "nama = [\"Budi\",'calvin','andi']"
   ]
  },
  {
   "cell_type": "code",
   "execution_count": 82,
   "id": "4d8fba9f",
   "metadata": {},
   "outputs": [],
   "source": [
    "nama.sort(key=str.lower)"
   ]
  },
  {
   "cell_type": "code",
   "execution_count": 83,
   "id": "7e5e3fd6",
   "metadata": {},
   "outputs": [
    {
     "name": "stdout",
     "output_type": "stream",
     "text": [
      "['andi', 'Budi', 'calvin']\n"
     ]
    }
   ],
   "source": [
    "print(nama)"
   ]
  }
 ],
 "metadata": {
  "kernelspec": {
   "display_name": "Python 3 (ipykernel)",
   "language": "python",
   "name": "python3"
  },
  "language_info": {
   "codemirror_mode": {
    "name": "ipython",
    "version": 3
   },
   "file_extension": ".py",
   "mimetype": "text/x-python",
   "name": "python",
   "nbconvert_exporter": "python",
   "pygments_lexer": "ipython3",
   "version": "3.9.12"
  }
 },
 "nbformat": 4,
 "nbformat_minor": 5
}
