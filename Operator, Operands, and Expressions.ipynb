{
 "cells": [
  {
   "cell_type": "markdown",
   "id": "90e058f0",
   "metadata": {},
   "source": [
    "# Operator, Operands and Expressions\n",
    "\n",
    "1+2 b+c\n",
    "\n",
    "* (+) : Operator\n",
    "* 1,2 atau bc : Variabel / Operands"
   ]
  },
  {
   "cell_type": "markdown",
   "id": "87594ea8",
   "metadata": {},
   "source": [
    "We can execute expressions without using variables directly in python interactive mode."
   ]
  },
  {
   "cell_type": "code",
   "execution_count": 1,
   "id": "6b24c00c",
   "metadata": {},
   "outputs": [
    {
     "name": "stdout",
     "output_type": "stream",
     "text": [
      "3\n"
     ]
    }
   ],
   "source": [
    "print(1+2)"
   ]
  },
  {
   "cell_type": "code",
   "execution_count": 2,
   "id": "4a281979",
   "metadata": {},
   "outputs": [
    {
     "name": "stdout",
     "output_type": "stream",
     "text": [
      "12\n"
     ]
    }
   ],
   "source": [
    "print(3*4)"
   ]
  },
  {
   "cell_type": "markdown",
   "id": "c34c1a21",
   "metadata": {},
   "source": [
    "Types of Operator"
   ]
  },
  {
   "cell_type": "markdown",
   "id": "128dbf20",
   "metadata": {},
   "source": [
    "## Mathematic and String\n",
    "\n",
    "\n",
    "### > (+) ( addition )"
   ]
  },
  {
   "cell_type": "code",
   "execution_count": 3,
   "id": "2ecd0337",
   "metadata": {},
   "outputs": [
    {
     "data": {
      "text/plain": [
       "11"
      ]
     },
     "execution_count": 3,
     "metadata": {},
     "output_type": "execute_result"
    }
   ],
   "source": [
    "5 + 6"
   ]
  },
  {
   "cell_type": "code",
   "execution_count": 4,
   "id": "e0290c8a",
   "metadata": {},
   "outputs": [
    {
     "data": {
      "text/plain": [
       "14.5"
      ]
     },
     "execution_count": 4,
     "metadata": {},
     "output_type": "execute_result"
    }
   ],
   "source": [
    "5 + 6 + 3.5"
   ]
  },
  {
   "cell_type": "code",
   "execution_count": 5,
   "id": "49db8c98",
   "metadata": {},
   "outputs": [
    {
     "data": {
      "text/plain": [
       "'data'"
      ]
     },
     "execution_count": 5,
     "metadata": {},
     "output_type": "execute_result"
    }
   ],
   "source": [
    "'da' + 'ta'"
   ]
  },
  {
   "cell_type": "code",
   "execution_count": 3,
   "id": "7c94c77b",
   "metadata": {},
   "outputs": [
    {
     "data": {
      "text/plain": [
       "'data2'"
      ]
     },
     "execution_count": 3,
     "metadata": {},
     "output_type": "execute_result"
    }
   ],
   "source": [
    "'da' + 'ta' + '2'"
   ]
  },
  {
   "cell_type": "markdown",
   "id": "becd4aaf",
   "metadata": {},
   "source": [
    "If the sum is between a string and an integer or a float type, it will be an error."
   ]
  },
  {
   "cell_type": "code",
   "execution_count": 4,
   "id": "cd8e3420",
   "metadata": {},
   "outputs": [
    {
     "ename": "TypeError",
     "evalue": "can only concatenate str (not \"int\") to str",
     "output_type": "error",
     "traceback": [
      "\u001b[1;31m---------------------------------------------------------------------------\u001b[0m",
      "\u001b[1;31mTypeError\u001b[0m                                 Traceback (most recent call last)",
      "Input \u001b[1;32mIn [4]\u001b[0m, in \u001b[0;36m<cell line: 1>\u001b[1;34m()\u001b[0m\n\u001b[1;32m----> 1\u001b[0m \u001b[38;5;124;43m'\u001b[39;49m\u001b[38;5;124;43mda\u001b[39;49m\u001b[38;5;124;43m'\u001b[39;49m\u001b[43m \u001b[49m\u001b[38;5;241;43m+\u001b[39;49m\u001b[43m \u001b[49m\u001b[38;5;124;43m'\u001b[39;49m\u001b[38;5;124;43mta\u001b[39;49m\u001b[38;5;124;43m'\u001b[39;49m\u001b[43m \u001b[49m\u001b[38;5;241;43m+\u001b[39;49m\u001b[43m \u001b[49m\u001b[38;5;241;43m2\u001b[39;49m\n",
      "\u001b[1;31mTypeError\u001b[0m: can only concatenate str (not \"int\") to str"
     ]
    }
   ],
   "source": [
    "'da' + 'ta' + 2"
   ]
  },
  {
   "cell_type": "markdown",
   "id": "46439c56",
   "metadata": {},
   "source": [
    "### > (-) substraction"
   ]
  },
  {
   "cell_type": "code",
   "execution_count": 5,
   "id": "62f741c6",
   "metadata": {},
   "outputs": [
    {
     "data": {
      "text/plain": [
       "5"
      ]
     },
     "execution_count": 5,
     "metadata": {},
     "output_type": "execute_result"
    }
   ],
   "source": [
    "8 - 3"
   ]
  },
  {
   "cell_type": "markdown",
   "id": "85573769",
   "metadata": {},
   "source": [
    "Can not apply to strings, will result in an error unsupported operand"
   ]
  },
  {
   "cell_type": "code",
   "execution_count": 6,
   "id": "eb3e6654",
   "metadata": {},
   "outputs": [
    {
     "ename": "TypeError",
     "evalue": "unsupported operand type(s) for -: 'str' and 'str'",
     "output_type": "error",
     "traceback": [
      "\u001b[1;31m---------------------------------------------------------------------------\u001b[0m",
      "\u001b[1;31mTypeError\u001b[0m                                 Traceback (most recent call last)",
      "Input \u001b[1;32mIn [6]\u001b[0m, in \u001b[0;36m<cell line: 1>\u001b[1;34m()\u001b[0m\n\u001b[1;32m----> 1\u001b[0m \u001b[38;5;124;43m'\u001b[39;49m\u001b[38;5;124;43mdata\u001b[39;49m\u001b[38;5;124;43m'\u001b[39;49m\u001b[43m \u001b[49m\u001b[38;5;241;43m-\u001b[39;49m\u001b[43m \u001b[49m\u001b[38;5;124;43m'\u001b[39;49m\u001b[38;5;124;43mda\u001b[39;49m\u001b[38;5;124;43m'\u001b[39;49m\n",
      "\u001b[1;31mTypeError\u001b[0m: unsupported operand type(s) for -: 'str' and 'str'"
     ]
    }
   ],
   "source": [
    "'data' - 'da'"
   ]
  },
  {
   "cell_type": "markdown",
   "id": "772c97b0",
   "metadata": {},
   "source": [
    "### > (*) multiplication"
   ]
  },
  {
   "cell_type": "code",
   "execution_count": 7,
   "id": "ca476b45",
   "metadata": {},
   "outputs": [
    {
     "data": {
      "text/plain": [
       "20"
      ]
     },
     "execution_count": 7,
     "metadata": {},
     "output_type": "execute_result"
    }
   ],
   "source": [
    "4 * 5"
   ]
  },
  {
   "cell_type": "markdown",
   "id": "5b4841ad",
   "metadata": {},
   "source": [
    "Returns a string repeated a specified number of times."
   ]
  },
  {
   "cell_type": "code",
   "execution_count": null,
   "id": "dbfd2fb1",
   "metadata": {},
   "outputs": [],
   "source": [
    "'cie'*3"
   ]
  },
  {
   "cell_type": "markdown",
   "id": "3008763d",
   "metadata": {},
   "source": [
    "### > (**) Exponentiation"
   ]
  },
  {
   "cell_type": "code",
   "execution_count": 8,
   "id": "a51262ba",
   "metadata": {},
   "outputs": [
    {
     "data": {
      "text/plain": [
       "8"
      ]
     },
     "execution_count": 8,
     "metadata": {},
     "output_type": "execute_result"
    }
   ],
   "source": [
    "2**3"
   ]
  },
  {
   "cell_type": "markdown",
   "id": "feb28c5b",
   "metadata": {},
   "source": [
    "For the square root, use the exponentiation of 0.5"
   ]
  },
  {
   "cell_type": "code",
   "execution_count": 9,
   "id": "d37c1bf9",
   "metadata": {},
   "outputs": [
    {
     "data": {
      "text/plain": [
       "3.0"
      ]
     },
     "execution_count": 9,
     "metadata": {},
     "output_type": "execute_result"
    }
   ],
   "source": [
    "9 ** 0.5"
   ]
  },
  {
   "cell_type": "markdown",
   "id": "6a90db3e",
   "metadata": {},
   "source": [
    "### > / (Division)"
   ]
  },
  {
   "cell_type": "markdown",
   "id": "a41e2021",
   "metadata": {},
   "source": [
    "Returns the result of dividing the first operand by the second operand (the result will be a float type)."
   ]
  },
  {
   "cell_type": "code",
   "execution_count": 1,
   "id": "b32b6e70",
   "metadata": {},
   "outputs": [
    {
     "data": {
      "text/plain": [
       "3.0"
      ]
     },
     "execution_count": 1,
     "metadata": {},
     "output_type": "execute_result"
    }
   ],
   "source": [
    "6/2"
   ]
  },
  {
   "cell_type": "code",
   "execution_count": 2,
   "id": "c555fa61",
   "metadata": {},
   "outputs": [
    {
     "data": {
      "text/plain": [
       "3.142857142857143"
      ]
     },
     "execution_count": 2,
     "metadata": {},
     "output_type": "execute_result"
    }
   ],
   "source": [
    "22/7"
   ]
  },
  {
   "cell_type": "markdown",
   "id": "d1c64924",
   "metadata": {},
   "source": [
    "### > // (floor division)\n",
    "\n",
    "* Returns the result of dividing the first operand by the second operand (an integer).\n",
    "* Unless one of the operands is a float, it returns a float."
   ]
  },
  {
   "cell_type": "code",
   "execution_count": 3,
   "id": "bb73093a",
   "metadata": {},
   "outputs": [
    {
     "data": {
      "text/plain": [
       "3"
      ]
     },
     "execution_count": 3,
     "metadata": {},
     "output_type": "execute_result"
    }
   ],
   "source": [
    "7//2"
   ]
  },
  {
   "cell_type": "code",
   "execution_count": 4,
   "id": "85ed15b2",
   "metadata": {},
   "outputs": [
    {
     "data": {
      "text/plain": [
       "2.0"
      ]
     },
     "execution_count": 4,
     "metadata": {},
     "output_type": "execute_result"
    }
   ],
   "source": [
    "4//1.5"
   ]
  },
  {
   "cell_type": "markdown",
   "id": "066638ed",
   "metadata": {},
   "source": [
    "### > % (Modulus)\n",
    "\n",
    "Returns the remainder for dividing the first operand by the second operand"
   ]
  },
  {
   "cell_type": "code",
   "execution_count": 2,
   "id": "e898845b",
   "metadata": {},
   "outputs": [
    {
     "data": {
      "text/plain": [
       "1"
      ]
     },
     "execution_count": 2,
     "metadata": {},
     "output_type": "execute_result"
    }
   ],
   "source": [
    "7%2"
   ]
  },
  {
   "cell_type": "code",
   "execution_count": 3,
   "id": "5c19f4c2",
   "metadata": {},
   "outputs": [
    {
     "data": {
      "text/plain": [
       "1.0"
      ]
     },
     "execution_count": 3,
     "metadata": {},
     "output_type": "execute_result"
    }
   ],
   "source": [
    "4%1.5"
   ]
  },
  {
   "cell_type": "markdown",
   "id": "b384b37a",
   "metadata": {},
   "source": [
    "## Comparison"
   ]
  },
  {
   "cell_type": "markdown",
   "id": "7d07ec68",
   "metadata": {},
   "source": [
    "### *   < (less than)\n",
    "\n",
    "* Executes a comparison of whether the first operand is smaller than the second operand\n",
    "* Returns a boolean value True or False"
   ]
  },
  {
   "cell_type": "code",
   "execution_count": 5,
   "id": "4faff9a4",
   "metadata": {},
   "outputs": [
    {
     "data": {
      "text/plain": [
       "True"
      ]
     },
     "execution_count": 5,
     "metadata": {},
     "output_type": "execute_result"
    }
   ],
   "source": [
    "1<2"
   ]
  },
  {
   "cell_type": "markdown",
   "id": "947d5621",
   "metadata": {},
   "source": [
    "Comparison can contain more than 2 operands"
   ]
  },
  {
   "cell_type": "code",
   "execution_count": 6,
   "id": "c7b0e39c",
   "metadata": {},
   "outputs": [
    {
     "data": {
      "text/plain": [
       "True"
      ]
     },
     "execution_count": 6,
     "metadata": {},
     "output_type": "execute_result"
    }
   ],
   "source": [
    "1 < 2 < 3"
   ]
  },
  {
   "cell_type": "code",
   "execution_count": 7,
   "id": "d174acc0",
   "metadata": {},
   "outputs": [
    {
     "data": {
      "text/plain": [
       "False"
      ]
     },
     "execution_count": 7,
     "metadata": {},
     "output_type": "execute_result"
    }
   ],
   "source": [
    "2 < 2 > 3"
   ]
  },
  {
   "cell_type": "markdown",
   "id": "453f0b95",
   "metadata": {},
   "source": [
    "### * '>' ( greater than )\n",
    "\n",
    "* Executes a comparison of whether the first operand is greater than the second operand.\n",
    "* Returns a boolean value True or False"
   ]
  },
  {
   "cell_type": "code",
   "execution_count": 8,
   "id": "74387d37",
   "metadata": {},
   "outputs": [
    {
     "data": {
      "text/plain": [
       "True"
      ]
     },
     "execution_count": 8,
     "metadata": {},
     "output_type": "execute_result"
    }
   ],
   "source": [
    "2 > 1"
   ]
  },
  {
   "cell_type": "code",
   "execution_count": 9,
   "id": "95a5a5a8",
   "metadata": {},
   "outputs": [
    {
     "data": {
      "text/plain": [
       "True"
      ]
     },
     "execution_count": 9,
     "metadata": {},
     "output_type": "execute_result"
    }
   ],
   "source": [
    "3 > 2 > 1"
   ]
  },
  {
   "cell_type": "markdown",
   "id": "fe6ca0f1",
   "metadata": {},
   "source": [
    "### * '<=' (less than or equal to)\n",
    "\n",
    "* Executes a comparison of whether the first operand is less than or equal to the second operand.\n",
    "* Returns a boolean value True or False."
   ]
  },
  {
   "cell_type": "code",
   "execution_count": 10,
   "id": "4dead668",
   "metadata": {},
   "outputs": [],
   "source": [
    "x = 1"
   ]
  },
  {
   "cell_type": "code",
   "execution_count": 11,
   "id": "ab16e067",
   "metadata": {},
   "outputs": [],
   "source": [
    "y = 2"
   ]
  },
  {
   "cell_type": "code",
   "execution_count": 12,
   "id": "1e42a867",
   "metadata": {},
   "outputs": [
    {
     "data": {
      "text/plain": [
       "True"
      ]
     },
     "execution_count": 12,
     "metadata": {},
     "output_type": "execute_result"
    }
   ],
   "source": [
    "x <= y"
   ]
  },
  {
   "cell_type": "markdown",
   "id": "308442da",
   "metadata": {},
   "source": [
    "### * '>=' (greater than or equal to)\n",
    "\n",
    "* Executes a comparison of whether the first operand is greater than or equal to the second operand\n",
    "* Returns a boolean value True or False"
   ]
  },
  {
   "cell_type": "code",
   "execution_count": 21,
   "id": "febc32a0",
   "metadata": {},
   "outputs": [],
   "source": [
    "x = 1"
   ]
  },
  {
   "cell_type": "code",
   "execution_count": 22,
   "id": "47a9435f",
   "metadata": {},
   "outputs": [],
   "source": [
    "y = 2"
   ]
  },
  {
   "cell_type": "code",
   "execution_count": 23,
   "id": "64543e28",
   "metadata": {},
   "outputs": [
    {
     "data": {
      "text/plain": [
       "False"
      ]
     },
     "execution_count": 23,
     "metadata": {},
     "output_type": "execute_result"
    }
   ],
   "source": [
    "x >= y"
   ]
  },
  {
   "cell_type": "markdown",
   "id": "1dd4092f",
   "metadata": {},
   "source": [
    "### * == ( equal to )\n",
    "\n",
    "* Performs a comparison of whether the first operand is equal to the second operand.\n",
    "* Returns a boolean value True or False."
   ]
  },
  {
   "cell_type": "code",
   "execution_count": 14,
   "id": "4af9f384",
   "metadata": {},
   "outputs": [],
   "source": [
    "x = 1"
   ]
  },
  {
   "cell_type": "code",
   "execution_count": 15,
   "id": "46aa817e",
   "metadata": {},
   "outputs": [],
   "source": [
    "y = 2"
   ]
  },
  {
   "cell_type": "code",
   "execution_count": 16,
   "id": "491bb541",
   "metadata": {},
   "outputs": [
    {
     "data": {
      "text/plain": [
       "False"
      ]
     },
     "execution_count": 16,
     "metadata": {},
     "output_type": "execute_result"
    }
   ],
   "source": [
    "x == y"
   ]
  },
  {
   "cell_type": "code",
   "execution_count": 17,
   "id": "e377c278",
   "metadata": {},
   "outputs": [],
   "source": [
    "a = 'aku'"
   ]
  },
  {
   "cell_type": "code",
   "execution_count": 18,
   "id": "33c242b3",
   "metadata": {},
   "outputs": [],
   "source": [
    "b = 'aku'"
   ]
  },
  {
   "cell_type": "code",
   "execution_count": 19,
   "id": "e5ef8835",
   "metadata": {},
   "outputs": [
    {
     "data": {
      "text/plain": [
       "True"
      ]
     },
     "execution_count": 19,
     "metadata": {},
     "output_type": "execute_result"
    }
   ],
   "source": [
    "a == b"
   ]
  },
  {
   "cell_type": "code",
   "execution_count": 20,
   "id": "85f9827d",
   "metadata": {},
   "outputs": [
    {
     "data": {
      "text/plain": [
       "False"
      ]
     },
     "execution_count": 20,
     "metadata": {},
     "output_type": "execute_result"
    }
   ],
   "source": [
    "a = 'aku'\n",
    "b = 'aKu'\n",
    "\n",
    "a == b   # False because 'K' is uppercase and python is case sensitive"
   ]
  },
  {
   "cell_type": "markdown",
   "id": "52f0b12c",
   "metadata": {},
   "source": [
    "### * != ( not equal to)\n",
    "\n",
    "* Executes a comparison of whether the first operand is not the same as the second operand\n",
    "* Returns a boolean value True or False"
   ]
  },
  {
   "cell_type": "code",
   "execution_count": null,
   "id": "d90a5b2d",
   "metadata": {},
   "outputs": [],
   "source": [
    "x = 1"
   ]
  },
  {
   "cell_type": "code",
   "execution_count": null,
   "id": "6690a142",
   "metadata": {},
   "outputs": [],
   "source": [
    "y = 2"
   ]
  },
  {
   "cell_type": "code",
   "execution_count": null,
   "id": "d444e412",
   "metadata": {},
   "outputs": [],
   "source": [
    "x != y"
   ]
  },
  {
   "cell_type": "markdown",
   "id": "cfc433bf",
   "metadata": {},
   "source": [
    "## Boolean Operator"
   ]
  },
  {
   "cell_type": "markdown",
   "id": "1c32558c",
   "metadata": {},
   "source": [
    "### not (boolean NOT)\n",
    "\n",
    "* If x is True, the function will return False\n",
    "* If x is False, the function will return True"
   ]
  },
  {
   "cell_type": "code",
   "execution_count": 24,
   "id": "10595384",
   "metadata": {},
   "outputs": [],
   "source": [
    "x = True"
   ]
  },
  {
   "cell_type": "code",
   "execution_count": 25,
   "id": "6499a9aa",
   "metadata": {},
   "outputs": [
    {
     "data": {
      "text/plain": [
       "False"
      ]
     },
     "execution_count": 25,
     "metadata": {},
     "output_type": "execute_result"
    }
   ],
   "source": [
    "not x"
   ]
  },
  {
   "cell_type": "code",
   "execution_count": 26,
   "id": "85f57247",
   "metadata": {},
   "outputs": [],
   "source": [
    "y = False"
   ]
  },
  {
   "cell_type": "code",
   "execution_count": 27,
   "id": "15bcc2d3",
   "metadata": {},
   "outputs": [
    {
     "data": {
      "text/plain": [
       "True"
      ]
     },
     "execution_count": 27,
     "metadata": {},
     "output_type": "execute_result"
    }
   ],
   "source": [
    "not y"
   ]
  },
  {
   "cell_type": "markdown",
   "id": "99366b16",
   "metadata": {},
   "source": [
    "### and (boolean AND)\n",
    "\n",
    "x AND y will return False if one or both values are False and will return True if both are True"
   ]
  },
  {
   "cell_type": "code",
   "execution_count": 28,
   "id": "d0d46835",
   "metadata": {},
   "outputs": [],
   "source": [
    "x = True"
   ]
  },
  {
   "cell_type": "code",
   "execution_count": 29,
   "id": "4dbf35d4",
   "metadata": {},
   "outputs": [],
   "source": [
    "y = False"
   ]
  },
  {
   "cell_type": "code",
   "execution_count": 30,
   "id": "780155ed",
   "metadata": {},
   "outputs": [
    {
     "data": {
      "text/plain": [
       "False"
      ]
     },
     "execution_count": 30,
     "metadata": {},
     "output_type": "execute_result"
    }
   ],
   "source": [
    "x and y"
   ]
  },
  {
   "cell_type": "code",
   "execution_count": 31,
   "id": "671da9fc",
   "metadata": {},
   "outputs": [],
   "source": [
    "x = False"
   ]
  },
  {
   "cell_type": "code",
   "execution_count": 32,
   "id": "e5762959",
   "metadata": {},
   "outputs": [],
   "source": [
    "y = True"
   ]
  },
  {
   "cell_type": "code",
   "execution_count": 33,
   "id": "c3f22b7b",
   "metadata": {},
   "outputs": [
    {
     "data": {
      "text/plain": [
       "False"
      ]
     },
     "execution_count": 33,
     "metadata": {},
     "output_type": "execute_result"
    }
   ],
   "source": [
    "x and y"
   ]
  },
  {
   "cell_type": "code",
   "execution_count": 34,
   "id": "306c9cec",
   "metadata": {},
   "outputs": [],
   "source": [
    "x = False"
   ]
  },
  {
   "cell_type": "code",
   "execution_count": 35,
   "id": "767204d1",
   "metadata": {},
   "outputs": [],
   "source": [
    "y = False"
   ]
  },
  {
   "cell_type": "code",
   "execution_count": 36,
   "id": "72500fe4",
   "metadata": {},
   "outputs": [
    {
     "data": {
      "text/plain": [
       "False"
      ]
     },
     "execution_count": 36,
     "metadata": {},
     "output_type": "execute_result"
    }
   ],
   "source": [
    "x and y"
   ]
  },
  {
   "cell_type": "code",
   "execution_count": 37,
   "id": "62966d20",
   "metadata": {},
   "outputs": [],
   "source": [
    "x = True"
   ]
  },
  {
   "cell_type": "code",
   "execution_count": 38,
   "id": "9bd5de33",
   "metadata": {},
   "outputs": [],
   "source": [
    "y = True"
   ]
  },
  {
   "cell_type": "code",
   "execution_count": 39,
   "id": "4695df89",
   "metadata": {},
   "outputs": [
    {
     "data": {
      "text/plain": [
       "True"
      ]
     },
     "execution_count": 39,
     "metadata": {},
     "output_type": "execute_result"
    }
   ],
   "source": [
    "x and y"
   ]
  },
  {
   "cell_type": "markdown",
   "id": "f944a2fb",
   "metadata": {},
   "source": [
    "### or (boolean or)\n",
    "\n",
    "x OR y, If both are false, then it produces a False value, but if one or both are True, then it will return a True value."
   ]
  },
  {
   "cell_type": "code",
   "execution_count": 40,
   "id": "34ad9bdd",
   "metadata": {},
   "outputs": [],
   "source": [
    "x = True"
   ]
  },
  {
   "cell_type": "code",
   "execution_count": 41,
   "id": "27120058",
   "metadata": {},
   "outputs": [],
   "source": [
    "y = False"
   ]
  },
  {
   "cell_type": "code",
   "execution_count": 42,
   "id": "d7327ed7",
   "metadata": {},
   "outputs": [
    {
     "data": {
      "text/plain": [
       "True"
      ]
     },
     "execution_count": 42,
     "metadata": {},
     "output_type": "execute_result"
    }
   ],
   "source": [
    "x or y"
   ]
  },
  {
   "cell_type": "code",
   "execution_count": 43,
   "id": "fb6db41e",
   "metadata": {},
   "outputs": [],
   "source": [
    "x = False"
   ]
  },
  {
   "cell_type": "code",
   "execution_count": 44,
   "id": "0b6307ec",
   "metadata": {},
   "outputs": [],
   "source": [
    "y = True"
   ]
  },
  {
   "cell_type": "code",
   "execution_count": 45,
   "id": "1fa4438e",
   "metadata": {},
   "outputs": [
    {
     "data": {
      "text/plain": [
       "True"
      ]
     },
     "execution_count": 45,
     "metadata": {},
     "output_type": "execute_result"
    }
   ],
   "source": [
    "x or y"
   ]
  },
  {
   "cell_type": "code",
   "execution_count": 46,
   "id": "6f5bcaf7",
   "metadata": {},
   "outputs": [],
   "source": [
    "x = False "
   ]
  },
  {
   "cell_type": "code",
   "execution_count": 47,
   "id": "4ab72fe8",
   "metadata": {},
   "outputs": [],
   "source": [
    "y = False"
   ]
  },
  {
   "cell_type": "code",
   "execution_count": 48,
   "id": "9d682fa8",
   "metadata": {},
   "outputs": [
    {
     "data": {
      "text/plain": [
       "False"
      ]
     },
     "execution_count": 48,
     "metadata": {},
     "output_type": "execute_result"
    }
   ],
   "source": [
    "x or y"
   ]
  },
  {
   "cell_type": "code",
   "execution_count": 49,
   "id": "a0e561d3",
   "metadata": {},
   "outputs": [],
   "source": [
    "x = True"
   ]
  },
  {
   "cell_type": "code",
   "execution_count": 50,
   "id": "07aff6b9",
   "metadata": {},
   "outputs": [],
   "source": [
    "y = True"
   ]
  },
  {
   "cell_type": "code",
   "execution_count": 51,
   "id": "38a1cc55",
   "metadata": {},
   "outputs": [
    {
     "data": {
      "text/plain": [
       "True"
      ]
     },
     "execution_count": 51,
     "metadata": {},
     "output_type": "execute_result"
    }
   ],
   "source": [
    "x or y"
   ]
  },
  {
   "cell_type": "markdown",
   "id": "bdba550c",
   "metadata": {},
   "source": [
    "### Short way to write operation"
   ]
  },
  {
   "cell_type": "markdown",
   "id": "b73163ff",
   "metadata": {},
   "source": [
    "If you reassign the results of an expression, some of them can be concise."
   ]
  },
  {
   "cell_type": "code",
   "execution_count": 52,
   "id": "591b4d89",
   "metadata": {},
   "outputs": [],
   "source": [
    "a = 2"
   ]
  },
  {
   "cell_type": "code",
   "execution_count": 53,
   "id": "47d51954",
   "metadata": {},
   "outputs": [],
   "source": [
    "a = a * 3"
   ]
  },
  {
   "cell_type": "code",
   "execution_count": 54,
   "id": "0e8eefaf",
   "metadata": {},
   "outputs": [
    {
     "data": {
      "text/plain": [
       "6"
      ]
     },
     "execution_count": 54,
     "metadata": {},
     "output_type": "execute_result"
    }
   ],
   "source": [
    "a"
   ]
  },
  {
   "cell_type": "code",
   "execution_count": 55,
   "id": "b1a78a9e",
   "metadata": {},
   "outputs": [],
   "source": [
    "a = 2"
   ]
  },
  {
   "cell_type": "code",
   "execution_count": 56,
   "id": "f1f89002",
   "metadata": {},
   "outputs": [],
   "source": [
    "a *= 3"
   ]
  },
  {
   "cell_type": "code",
   "execution_count": 57,
   "id": "ba2e2d3a",
   "metadata": {},
   "outputs": [
    {
     "data": {
      "text/plain": [
       "6"
      ]
     },
     "execution_count": 57,
     "metadata": {},
     "output_type": "execute_result"
    }
   ],
   "source": [
    "a"
   ]
  },
  {
   "cell_type": "code",
   "execution_count": 58,
   "id": "1aeed1a9",
   "metadata": {},
   "outputs": [],
   "source": [
    "a = 2"
   ]
  },
  {
   "cell_type": "code",
   "execution_count": 59,
   "id": "c7a77fea",
   "metadata": {},
   "outputs": [],
   "source": [
    "a = a + 3"
   ]
  },
  {
   "cell_type": "code",
   "execution_count": 60,
   "id": "cdd33359",
   "metadata": {},
   "outputs": [
    {
     "data": {
      "text/plain": [
       "5"
      ]
     },
     "execution_count": 60,
     "metadata": {},
     "output_type": "execute_result"
    }
   ],
   "source": [
    "a"
   ]
  },
  {
   "cell_type": "code",
   "execution_count": 61,
   "id": "9579ee83",
   "metadata": {},
   "outputs": [],
   "source": [
    "a = 2"
   ]
  },
  {
   "cell_type": "code",
   "execution_count": 62,
   "id": "967f0407",
   "metadata": {},
   "outputs": [],
   "source": [
    "a += 3"
   ]
  },
  {
   "cell_type": "code",
   "execution_count": 63,
   "id": "5dcedb75",
   "metadata": {},
   "outputs": [
    {
     "data": {
      "text/plain": [
       "5"
      ]
     },
     "execution_count": 63,
     "metadata": {},
     "output_type": "execute_result"
    }
   ],
   "source": [
    "a"
   ]
  },
  {
   "cell_type": "markdown",
   "id": "962dc464",
   "metadata": {},
   "source": [
    "Mathematical order in evaluating\n",
    "\n",
    "question: 1 + 2 * 3 ?\n",
    "    \n",
    "Tip: Use brackets for easy readability and ensure proper ordering."
   ]
  },
  {
   "cell_type": "code",
   "execution_count": 64,
   "id": "7961d9a0",
   "metadata": {},
   "outputs": [
    {
     "data": {
      "text/plain": [
       "7"
      ]
     },
     "execution_count": 64,
     "metadata": {},
     "output_type": "execute_result"
    }
   ],
   "source": [
    "1 + 2 * 3"
   ]
  },
  {
   "cell_type": "markdown",
   "id": "a2ba40c8",
   "metadata": {},
   "source": [
    "If you want to addition up first."
   ]
  },
  {
   "cell_type": "code",
   "execution_count": 65,
   "id": "67f455c7",
   "metadata": {},
   "outputs": [
    {
     "data": {
      "text/plain": [
       "9"
      ]
     },
     "execution_count": 65,
     "metadata": {},
     "output_type": "execute_result"
    }
   ],
   "source": [
    "(1 + 2) * 3"
   ]
  }
 ],
 "metadata": {
  "kernelspec": {
   "display_name": "Python 3 (ipykernel)",
   "language": "python",
   "name": "python3"
  },
  "language_info": {
   "codemirror_mode": {
    "name": "ipython",
    "version": 3
   },
   "file_extension": ".py",
   "mimetype": "text/x-python",
   "name": "python",
   "nbconvert_exporter": "python",
   "pygments_lexer": "ipython3",
   "version": "3.9.12"
  }
 },
 "nbformat": 4,
 "nbformat_minor": 5
}
